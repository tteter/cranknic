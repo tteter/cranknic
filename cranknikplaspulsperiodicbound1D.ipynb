{
 "cells": [
  {
   "cell_type": "code",
   "execution_count": 1,
   "metadata": {
    "collapsed": false,
    "scrolled": true
   },
   "outputs": [
    {
     "name": "stdout",
     "output_type": "stream",
     "text": [
      "Populating the interactive namespace from numpy and matplotlib\n"
     ]
    }
   ],
   "source": [
    "#Runs a Crank Nicolson Scheme for a gaussian laser pulse propagating\n",
    "#in a plasma channel and computes the result for one coordinate\n",
    "#using the wave equation defined by \"Tunable polarization plasma channel\n",
    "#undulator for narrow bandwidth photon emission\" Rykovanov et. al.\n",
    "%pylab inline"
   ]
  },
  {
   "cell_type": "code",
   "execution_count": 2,
   "metadata": {
    "collapsed": false
   },
   "outputs": [],
   "source": [
    "#Call modules\n",
    "import numpy as np\n",
    "from matplotlib import pyplot as plt\n",
    "from ipywidgets import interact\n",
    "import sys\n",
    "#import Image\n",
    "#import glob"
   ]
  },
  {
   "cell_type": "code",
   "execution_count": 3,
   "metadata": {
    "collapsed": false
   },
   "outputs": [],
   "source": [
    "#Sets path for saving data and number of significant\n",
    "#figures stored in variables\n",
    "sys.path.append(\"/home/data\")\n",
    "np.set_printoptions(precision=15)"
   ]
  },
  {
   "cell_type": "code",
   "execution_count": 4,
   "metadata": {
    "collapsed": false
   },
   "outputs": [],
   "source": [
    "#Define x where L is half the length of the channel, NSteps_x is the number\n",
    "#of steps the channel is divided into, and dx is the constant distance\n",
    "#between steps in the x direction used in finite difference method.\n",
    "#x_grid is the vector used to store the width of the space.\n",
    "\n",
    "L = 10.\n",
    "#J = 1000\n",
    "NSteps_x=1000\n",
    "#dx = float(L)/float(J-1)\n",
    "#x_grid = np.array([j*dx for j in range(J)])\n",
    "\n",
    "x_grid = linspace(-L, L, NSteps_x)\n",
    "dx=x_grid[1]-x_grid[0]\n",
    "\n",
    "#print x_grid.shape"
   ]
  },
  {
   "cell_type": "code",
   "execution_count": 5,
   "metadata": {
    "collapsed": false
   },
   "outputs": [],
   "source": [
    "#Define t where T is the full period of the simulation, NSteps_t is the\n",
    "#number of divisions of the temporal variable, and dt is the separation of\n",
    "#time steps used in finite difference method. t_grid is the vector that\n",
    "#stores the temporal domain.\n",
    "\n",
    "T = 1.\n",
    "NSteps_t = 1000\n",
    "#dt = float(T)/float(N-1)\n",
    "#t_grid = np.array([n*dt for n in range(N)])\n",
    "\n",
    "t_grid = linspace(0, T, NSteps_t)\n",
    "dt=t_grid[1]-t_grid[0]"
   ]
  },
  {
   "cell_type": "code",
   "execution_count": 6,
   "metadata": {
    "collapsed": false
   },
   "outputs": [
    {
     "name": "stdout",
     "output_type": "stream",
     "text": [
      "7.0\n"
     ]
    }
   ],
   "source": [
    "#Define parameters according to \"Tunable polarization plasma channel\n",
    "#undulator for narrow bandwidth photon emission\" Rykovanov et. al. From these parameters,\n",
    "#the density of the plasma is determined and stored in the inline function\n",
    "#pot. thetax is the insertion angle of the pulse into the channel.\n",
    "\n",
    "#i=1j\n",
    "#Mp is the ratio of laser to plasma wave numbers\n",
    "Mp=33.\n",
    "#n0 is the on-axis plasma density.\n",
    "n0=1.0e18\n",
    "#e is the fundamental electron charge\n",
    "e=4.8e-10\n",
    "#me is the electron mass\n",
    "me=9.11e-28\n",
    "#c is the speed of light\n",
    "c=3e8\n",
    "#kp is the plasma frequency\n",
    "kp=((4.*pi*(e**2.)*n0)/(me*c**2.))**0.5\n",
    "#rm\n",
    "rm=7*2*pi/Mp\n",
    "#rcl\n",
    "rcl=e**2/(me*c**2)\n",
    "#Dn\n",
    "Dn=kp**2/((rm**2)*rcl*pi)\n",
    "#R\n",
    "R=pow(rm,2)/2\n",
    "#Omega\n",
    "Omega=pow(Mp*R,-1)\n",
    "\n",
    "\n",
    "\n",
    "\n",
    "#Dn is the channel depth\n",
    "#Dn=6.74**28\n",
    "#Dn=2.1**17\n",
    "#kp is the plasma wave number\n",
    "#kp=np.sqrt((4*np.pi*pow(pow(1.602,-19),2)*n0)/(pow(9.109,-31)*pow(299792458,2)))\n",
    "#kp=3.2561**8\n",
    "#kl is the wave number of the laser\n",
    "#kl=Mp*kp\n",
    "#rcl is the classical electron radius\n",
    "#rcl=pow(pow(1.602,-19),2)/(pow(9.109,-31)*pow(299792458,2))\n",
    "#rcl=2.8179**-13\n",
    "#rm is the matched laser spotsize\n",
    "#rm=kp/np.sqrt(np.pi*rcl*Dn)\n",
    "#rm=1.33279688334\n",
    "#R is the dimensionless channel radius\n",
    "#R=pow(rm,2)/2\n",
    "#Omega is the eigenfrequency of potential oscillation\n",
    "#Omega=pow(Mp*R,-1)\n",
    "a0=1.\n",
    "w0=1.5*rm\n",
    "thetax=0.\n",
    "x0=0.\n",
    "\n",
    "#sigma is composed of the constants present in the differential equation\n",
    "#which describes propagation in the plasma channel. \n",
    "sigma=1j*dt/(8*Mp*pow(dx,2))\n",
    "\n",
    "#V is the full potential term of the Schroedinger's equation used to propagate\n",
    "#the laser pulse in the plasma channel.\n",
    "\n",
    "V=(Mp/4)*((1/pow(Mp,2))+(pow(x_grid,2)*pow(Omega,2)))\n",
    "#V[970:1000]=0.03\n",
    "#V[0:30]=0.03\n",
    "\n",
    "#a is introduced as the laser's vector potential which the differential equation\n",
    "#acts on.\n",
    "\n",
    "pot=lambda j: (1j*Mp/4*dt)*((1/pow(Mp,2))+(pow(j*dx-x0,2)*pow(Omega,2)))\n",
    "\n",
    "#pot_vec=lambda x_grid, a: np.multiply(1j, Mp, 0.5, dt, np.add(np.multiply(1,pow(pow(Mp,2),-1)),np.multiply(pow(x_grid,2),pow(Omega,2))),a) \n",
    "            \n",
    "\n",
    "print rm*33/(2*pi)\n"
   ]
  },
  {
   "cell_type": "code",
   "execution_count": 7,
   "metadata": {
    "collapsed": false
   },
   "outputs": [],
   "source": [
    "#Specify initial conditions of the laser's vector potential. The pulse function\n",
    "#is taken from \"Tunable polarization plasma channel\n",
    "#undulator for narrow bandwidth photon emission\" Rykovanov et. al.\n",
    "#as a guassian pulse with an oscillatory\n",
    "#term that yeilds oscillation for some input angle.\n",
    "\n",
    "\n",
    "\n",
    "no_high=10\n",
    "\n",
    "\n",
    "def afunc(x_grid):\n",
    "    #print thetax\n",
    "    return a0*np.exp(-((x_grid-x0)**2)/w0**2+1j*Mp*thetax*x_grid)\n",
    "\n",
    "#a=numpy.array([a0*numpy.exp(pow(t_grid,2))*numpy.sin(Mp*kp*x_grid)])"
   ]
  },
  {
   "cell_type": "code",
   "execution_count": 8,
   "metadata": {
    "collapsed": false,
    "scrolled": true
   },
   "outputs": [
    {
     "name": "stderr",
     "output_type": "stream",
     "text": [
      "/usr/local/lib/python2.7/dist-packages/numpy/core/numeric.py:482: ComplexWarning: Casting complex values to real discards the imaginary part\n",
      "  return array(a, dtype, copy=False, order=order)\n"
     ]
    },
    {
     "data": {
      "image/png": "[encoded data removed]",
      "text/plain": [
       "<matplotlib.figure.Figure at 0x7fa09d4a3050>"
      ]
     },
     "metadata": {},
     "output_type": "display_data"
    },
    {
     "data": {
      "image/png": "[encoded data removed]",
      "text/plain": [
       "<matplotlib.figure.Figure at 0x7fa075248e50>"
      ]
     },
     "metadata": {},
     "output_type": "display_data"
    }
   ],
   "source": [
    "#Plots the initial field's intensity and potential\n",
    "#for visual representation.\n",
    "\n",
    "a = np.array([afunc(X) for X in x_grid])\n",
    "\n",
    "#pottest=pot(x_grid,a)\n",
    "#pottest.shape()\n",
    "\n",
    "a[0]=0.\n",
    "#a[1]=0.\n",
    "#a[NSteps_t-2]=0.\n",
    "a[-1]=0.\n",
    "\n",
    "ylim=((0., 1))\n",
    "plt.xlabel('Position')\n",
    "plt.ylabel('Amplitude')\n",
    "plt.plot(x_grid,a*a.conjugate())\n",
    "plt.show()\n",
    "\n",
    "ylim=((0., 1))\n",
    "plt.xlabel('Position')\n",
    "plt.ylabel('Plasma Density')\n",
    "plt.plot(x_grid,V)\n",
    "plt.show()"
   ]
  },
  {
   "cell_type": "code",
   "execution_count": 9,
   "metadata": {
    "collapsed": false,
    "scrolled": true
   },
   "outputs": [],
   "source": [
    "#Define matrices for the Crank-Nicolson scheme. These are defined by finite\n",
    "#difference method for x and t where A acts on the field at the next time step\n",
    "#and B acts on the field in the previous timestep. These matrices are tridiagonal\n",
    "#for problems in 1D.\n",
    "\n",
    "A=np.diagflat([-sigma for m in range(NSteps_x-1)],-1) +\\\n",
    "np.diagflat([1.+3.*sigma+pot(m)]+[1.+2.*sigma+pot(m) for m in range(NSteps_x-2)]+[1.+3.*sigma+pot(m)]) +\\\n",
    "np.diagflat([-sigma for m in range(NSteps_x-1)], 1)\n",
    "\n",
    "B=np.diagflat([sigma for m in range(NSteps_x-1)], -1) +\\\n",
    "np.diagflat([1.-2.*sigma-pot(m)]+[1.-2.*sigma-pot(m) for m in range(NSteps_x-2)]+[1.-2.*sigma-pot(m)]) +\\\n",
    "np.diagflat([sigma for m in range (NSteps_x-1)], 1)\n",
    "\n",
    "B[0][-1]=sigma\n",
    "B[-1][0]=sigma\n",
    "\n",
    "#Checks to see if A and B are invertible. This is required for the solving scheme\n",
    "#and the matrices may not be invertible for particular sets of initial conditons.\n",
    "\n",
    "#Aisinv=np.linalg.inv(A)\n",
    "#Bisinv=np.linalg.inv(B)\n",
    "\n",
    "#For periodic boundaries, the dependence of the function at the grid's endpoints\n",
    "#requires terms that make the A and B matrices circulant rather than tridiagonal.\n",
    "#To that end, I introduce the w and z vectors in order to solve this using the\n",
    "#Sherman-Morrison algorithm.\n",
    "\n",
    "w=zeros(NSteps_x)\n",
    "w[0]=1.\n",
    "w[NSteps_x-1]=1.\n",
    "\n",
    "z=zeros(NSteps_x, dtype=np.complex_)\n",
    "z[0]=-sigma\n",
    "z[NSteps_x-1]=-sigma\n",
    "\n",
    "wzt=np.outer(w,z)\n",
    "\n",
    "#print B"
   ]
  },
  {
   "cell_type": "code",
   "execution_count": 10,
   "metadata": {
    "collapsed": false,
    "scrolled": true
   },
   "outputs": [
    {
     "name": "stderr",
     "output_type": "stream",
     "text": [
      "/usr/local/lib/python2.7/dist-packages/ipykernel/__main__.py:60: ComplexWarning: Casting complex values to real discards the imaginary part\n"
     ]
    },
    {
     "name": "stdout",
     "output_type": "stream",
     "text": [
      "1\n",
      "2\n",
      "3\n",
      "4\n",
      "5\n",
      "6\n",
      "7\n",
      "8\n",
      "9\n",
      "10\n",
      "11\n",
      "12\n",
      "13\n",
      "14\n",
      "15\n",
      "16\n",
      "17\n",
      "18\n",
      "19\n",
      "20\n",
      "21\n",
      "22\n",
      "23\n",
      "24\n",
      "25\n",
      "26\n",
      "27\n",
      "28\n",
      "29\n",
      "30\n",
      "31\n",
      "32\n",
      "33\n",
      "34\n",
      "35\n",
      "36\n",
      "37\n",
      "38\n",
      "39\n",
      "40\n",
      "41\n",
      "42\n",
      "43\n",
      "44\n",
      "45\n",
      "46\n",
      "47\n",
      "48\n",
      "49\n",
      "50\n",
      "51\n",
      "52\n",
      "53\n",
      "54\n",
      "55\n",
      "56\n",
      "57\n",
      "58\n",
      "59\n",
      "60\n",
      "61\n",
      "62\n",
      "63\n",
      "64\n",
      "65\n",
      "66\n",
      "67\n",
      "68\n",
      "69\n",
      "70\n",
      "71\n",
      "72\n",
      "73\n",
      "74\n",
      "75\n",
      "76\n",
      "77\n",
      "78\n",
      "79\n",
      "80\n",
      "81\n",
      "82\n",
      "83\n",
      "84\n",
      "85\n",
      "86\n",
      "87\n",
      "88\n",
      "89\n",
      "90\n",
      "91\n",
      "92\n",
      "93\n",
      "94\n",
      "95\n",
      "96\n",
      "97\n",
      "98\n",
      "99\n",
      "100\n",
      "101\n",
      "102\n",
      "103\n",
      "104\n",
      "105\n",
      "106\n",
      "107\n",
      "108\n",
      "109\n",
      "110\n",
      "111\n",
      "112\n",
      "113\n",
      "114\n",
      "115\n",
      "116\n",
      "117\n",
      "118\n",
      "119\n",
      "120\n",
      "121\n",
      "122\n",
      "123\n",
      "124\n",
      "125\n",
      "126\n",
      "127\n",
      "128\n",
      "129\n",
      "130\n",
      "131\n",
      "132\n",
      "133\n",
      "134\n",
      "135\n",
      "136\n",
      "137\n",
      "138\n",
      "139\n",
      "140\n",
      "141\n",
      "142\n",
      "143\n",
      "144\n",
      "145\n",
      "146\n",
      "147\n",
      "148\n",
      "149\n",
      "150\n",
      "151\n",
      "152\n",
      "153\n",
      "154\n",
      "155\n",
      "156\n",
      "157\n",
      "158\n",
      "159\n",
      "160\n",
      "161\n",
      "162\n",
      "163\n",
      "164\n",
      "165\n",
      "166\n",
      "167\n",
      "168\n",
      "169\n",
      "170\n",
      "171\n",
      "172\n",
      "173\n",
      "174\n",
      "175\n",
      "176\n",
      "177\n",
      "178\n",
      "179\n",
      "180\n",
      "181\n",
      "182\n",
      "183\n",
      "184\n",
      "185\n",
      "186\n",
      "187\n",
      "188\n",
      "189\n",
      "190\n",
      "191\n",
      "192\n",
      "193\n",
      "194\n",
      "195\n",
      "196\n",
      "197\n",
      "198\n",
      "199\n",
      "200\n"
     ]
    }
   ],
   "source": [
    "#Contains a loop which advances the field in time with each iteration. \n",
    "#The previous field is a where the first field inserted into the channel.\n",
    "#The next time step is calculated through a linear algebra solving function\n",
    "#and stored in a_new which is recast as a and arranged into a vector through\n",
    "#a_record.\n",
    "a_record=[]\n",
    "\n",
    "a_record.append(a)\n",
    "\n",
    "plotnumber=1\n",
    "\n",
    "intensity=zeros(NSteps_t)\n",
    "\n",
    "energyval=zeros(NSteps_t)\n",
    "\n",
    "#for ti in range(1,2):\n",
    "    \n",
    "    \n",
    "#for ti, t in enumerate(t_grid[:100]):\n",
    "for ti, t in enumerate(t_grid):\n",
    "    #print a\n",
    "    #a_new = np.linalg.solve(A+wzt,B.dot(a)+ pot(x_grid, a) )\n",
    "    #a_new[0]=a_new[NSteps_t-1]\n",
    "    #a_new[1]=a_new[NSteps_t-2]\n",
    "    a_new = numpy.linalg.solve(A,B.dot(a))\n",
    "    \n",
    "    a = a_new\n",
    "    #a[0]=0.\n",
    "    #a[1]=0.\n",
    "    #a[NSteps_t-2]=0.\n",
    "    #a[NSteps_t-1]=0.\n",
    "    a_record.append(a)\n",
    "    \n",
    "    #ylim=((0., 1))\n",
    "    #plt.xlabel('Position'); pyplot.ylabel('Field')\n",
    "    #plt.plot(x_grid,a)\n",
    "    #plt.show()\n",
    "    \n",
    "    \n",
    "    #Intensity, being the measurable quantity in optics, is calculated\n",
    "    #and plotted here. The plots are saved so they can be converted into\n",
    "    #a gif for visualization of the time advancement.\n",
    "    \n",
    "    intensity=a*a.conjugate()\n",
    "    plt.xlabel('Position'); plt.ylabel('Intensity')\n",
    "    #plt.plot(x_grid,a)\n",
    "    plt.plot(x_grid,a*a.conjugate())\n",
    "    fig1=plt.plot(x_grid,intensity)\n",
    "    plt.ylim=([0,1])\n",
    "    filename= 'cranknicktest-%06d.png' % ti\n",
    "    savefig('/home/teter/data/periodic5/'+filename,dpi=100)\n",
    "    plt.clf()\n",
    "    plt.cla()\n",
    "    plt.close()\n",
    "    \n",
    "    #In order to compare with the paper \"Efficient Modeling of Laser-Plasma\n",
    "    #Accelerators Using the Ponderomotive-Based Code INF&RNO\" by C. Benedetti\n",
    "    #et. al., the total intensity is saved in the array energyval.\n",
    "    \n",
    "    energyval[ti]=sum(intensity)\n",
    "    \n",
    "    #time.sleep(2)\n",
    "    if ti % 5 == 0:\n",
    "        \n",
    "        if ti==0:\n",
    "            data_a = intensity\n",
    "        else:\n",
    "            data_a = vstack([data_a, intensity])\n",
    "        #ylim=((0., 1))\n",
    "        #plt.xlabel('Position'); plt.ylabel('Field')\n",
    "        #plt.plot(x_grid,a)\n",
    "        #plt.plot(x_grid,a*a.conjugate())\n",
    "        #plt.plot(x_grid,intensity)\n",
    "        #plt.show()\n",
    "        print plotnumber\n",
    "        plotnumber=plotnumber+1\n",
    "        \n",
    "        \n",
    "\n",
    "    #print a"
   ]
  },
  {
   "cell_type": "code",
   "execution_count": 11,
   "metadata": {
    "collapsed": false,
    "scrolled": true
   },
   "outputs": [
    {
     "data": {
      "text/plain": [
       "<matplotlib.image.AxesImage at 0x7fa052fa6a10>"
      ]
     },
     "execution_count": 11,
     "metadata": {},
     "output_type": "execute_result"
    },
    {
     "data": {
      "image/png": "[encoded data removed]",
      "text/plain": [
       "<matplotlib.figure.Figure at 0x7fa0772ee7d0>"
      ]
     },
     "metadata": {},
     "output_type": "display_data"
    }
   ],
   "source": [
    "imshow(abs(data_a), aspect='auto', origin='lower')"
   ]
  },
  {
   "cell_type": "code",
   "execution_count": 12,
   "metadata": {
    "collapsed": false,
    "scrolled": true
   },
   "outputs": [
    {
     "data": {
      "image/png": "[encoded data removed]",
      "text/plain": [
       "<matplotlib.figure.Figure at 0x7fa052f8bc10>"
      ]
     },
     "metadata": {},
     "output_type": "display_data"
    },
    {
     "data": {
      "image/png": "[encoded data removed]",
      "text/plain": [
       "<matplotlib.figure.Figure at 0x7fa052f64dd0>"
      ]
     },
     "metadata": {},
     "output_type": "display_data"
    }
   ],
   "source": [
    "ylim=((0., 1))\n",
    "plt.xlabel('Position'); plt.ylabel('Field')\n",
    "plt.plot(x_grid,a)\n",
    "plt.show()\n",
    "\n",
    "ylim=((0., 1))\n",
    "plt.xlabel('propagation disance'); plt.ylabel('intensity')\n",
    "plt.plot(t_grid,intensity)\n",
    "plt.show()\n",
    "\n"
   ]
  },
  {
   "cell_type": "code",
   "execution_count": 13,
   "metadata": {
    "collapsed": false,
    "scrolled": true
   },
   "outputs": [
    {
     "data": {
      "image/png": "[encoded data removed]",
      "text/plain": [
       "<matplotlib.figure.Figure at 0x7fa052fa6710>"
      ]
     },
     "metadata": {},
     "output_type": "display_data"
    }
   ],
   "source": [
    "z_grid=299792458*t_grid\n",
    "ylim=((0., 1))\n",
    "plt.xlabel('Propagation Step')\n",
    "plt.ylabel('Intensity')\n",
    "plt.plot(z_grid,energyval)\n",
    "plt.show()"
   ]
  },
  {
   "cell_type": "code",
   "execution_count": 14,
   "metadata": {
    "collapsed": false,
    "scrolled": false
   },
   "outputs": [
    {
     "ename": "NameError",
     "evalue": "name 'kl' is not defined",
     "output_type": "error",
     "traceback": [
      "\u001b[0;31m---------------------------------------------------------------------------\u001b[0m",
      "\u001b[0;31mNameError\u001b[0m                                 Traceback (most recent call last)",
      "\u001b[0;32m<ipython-input-14-b7217108f69d>\u001b[0m in \u001b[0;36m<module>\u001b[0;34m()\u001b[0m\n\u001b[0;32m----> 1\u001b[0;31m \u001b[0menergyval\u001b[0m\u001b[0;34m=\u001b[0m\u001b[0menergyval\u001b[0m\u001b[0;34m*\u001b[0m\u001b[0;34m(\u001b[0m\u001b[0mkl\u001b[0m\u001b[0;34m*\u001b[0m\u001b[0;36m299792458\u001b[0m\u001b[0;34m*\u001b[0m\u001b[0;34m(\u001b[0m\u001b[0;36m4.135\u001b[0m\u001b[0;34m**\u001b[0m\u001b[0;34m-\u001b[0m\u001b[0;36m15\u001b[0m\u001b[0;34m)\u001b[0m\u001b[0;34m)\u001b[0m\u001b[0;34m\u001b[0m\u001b[0m\n\u001b[0m\u001b[1;32m      2\u001b[0m \u001b[0;34m\u001b[0m\u001b[0m\n\u001b[1;32m      3\u001b[0m \u001b[0mylim\u001b[0m\u001b[0;34m=\u001b[0m\u001b[0;34m(\u001b[0m\u001b[0;34m(\u001b[0m\u001b[0;36m0.\u001b[0m\u001b[0;34m,\u001b[0m \u001b[0;36m1\u001b[0m\u001b[0;34m)\u001b[0m\u001b[0;34m)\u001b[0m\u001b[0;34m\u001b[0m\u001b[0m\n\u001b[1;32m      4\u001b[0m \u001b[0mplt\u001b[0m\u001b[0;34m.\u001b[0m\u001b[0mxlabel\u001b[0m\u001b[0;34m(\u001b[0m\u001b[0;34m'Propagation Step'\u001b[0m\u001b[0;34m)\u001b[0m\u001b[0;34m\u001b[0m\u001b[0m\n\u001b[1;32m      5\u001b[0m \u001b[0mplt\u001b[0m\u001b[0;34m.\u001b[0m\u001b[0mylabel\u001b[0m\u001b[0;34m(\u001b[0m\u001b[0;34m'Intensity'\u001b[0m\u001b[0;34m)\u001b[0m\u001b[0;34m\u001b[0m\u001b[0m\n",
      "\u001b[0;31mNameError\u001b[0m: name 'kl' is not defined"
     ]
    }
   ],
   "source": []
  },
  {
   "cell_type": "code",
   "execution_count": null,
   "metadata": {
    "collapsed": true
   },
   "outputs": [],
   "source": []
  }
 ],
 "metadata": {
  "kernelspec": {
   "display_name": "Python 2",
   "language": "python",
   "name": "python2"
  },
  "language_info": {
   "codemirror_mode": {
    "name": "ipython",
    "version": 2
   },
   "file_extension": ".py",
   "mimetype": "text/x-python",
   "name": "python",
   "nbconvert_exporter": "python",
   "pygments_lexer": "ipython2",
   "version": "2.7.12"
  }
 },
 "nbformat": 4,
 "nbformat_minor": 1
}
